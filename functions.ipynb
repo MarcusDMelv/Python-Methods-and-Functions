{
 "cells": [
  {
   "cell_type": "code",
   "execution_count": 1,
   "metadata": {
    "collapsed": false
   },
   "outputs": [
   ],
   "source": [
    "# Don't Repeat Yourself\n",
    "\n",
    "# A collection of computer code - reusable \n",
    "\n",
    "# Block of code does something specfic \n",
    "\n",
    "# Excute by their name\n",
    "\n"
   ]
  },
  {
   "cell_type": "code",
   "execution_count": 2,
   "metadata": {
    "collapsed": false
   },
   "outputs": [
   ],
   "source": [
    "def function_name(): # def creates a function # the colon tells python a new line of code is about to start\n",
    "    # can put variable in the () this is called a parameter \n",
    "    print('Hello World') # this block of code will be ran when function gets executed\n",
    "    # can give parameter value in the block of code once parameter has value it is called an argument"
   ]
  },
  {
   "cell_type": "code",
   "execution_count": 3,
   "metadata": {
    "collapsed": false
   },
   "outputs": [
   ],
   "source": [
    "def sum(a,b):\n",
    "    # function body\n",
    "    print(a+b)\n",
    "# a and b are known as parameters\n"
   ]
  },
  {
   "cell_type": "code",
   "execution_count": 4,
   "metadata": {
    "collapsed": false
   },
   "outputs": [
    {
     "name": "stdout",
     "output_type": "stream",
     "text": [
      "11\n"
     ]
    }
   ],
   "source": [
    "sum(9,2)# calling the function / invoking the function / executing the function\n",
    "# pass in arguments when calling the function arguments = 9,2\n"
   ]
  },
  {
   "cell_type": "code",
   "execution_count": 0,
   "metadata": {
    "collapsed": false
   },
   "outputs": [
   ],
   "source": [
    "# Parameter Vs Argument\n",
    "\n",
    "#parameter is a variabledefined inside a functions ()\n",
    "\n",
    "#argument is the actual value you pass"
   ]
  }
 ],
 "metadata": {
  "kernelspec": {
   "display_name": "Python 3 (system-wide)",
   "language": "python",
   "metadata": {
    "cocalc": {
     "description": "Python 3 programming language",
     "priority": 100,
     "url": "https://www.python.org/"
    }
   },
   "name": "python3",
   "resource_dir": "/ext/jupyter/kernels/python3"
  },
  "language_info": {
   "codemirror_mode": {
    "name": "ipython",
    "version": 3
   },
   "file_extension": ".py",
   "mimetype": "text/x-python",
   "name": "python",
   "nbconvert_exporter": "python",
   "pygments_lexer": "ipython3",
   "version": "3.8.10"
  }
 },
 "nbformat": 4,
 "nbformat_minor": 4
}