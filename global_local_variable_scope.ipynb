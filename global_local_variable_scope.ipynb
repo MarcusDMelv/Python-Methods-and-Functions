{
 "cells": [
  {
   "cell_type": "code",
   "execution_count": 1,
   "metadata": {
    "collapsed": false
   },
   "outputs": [
   ],
   "source": [
    "# Global Vs Local \n",
    "\n",
    "# Variables defined in a function = Local Scope\n",
    "# Variables defined outside of a function = Global Scope\n",
    "# Global variables can be accessed anywhere in python file\n",
    "# Local variables can only be accessed inside the function it belongs to.\n",
    "\n",
    "# Using Global keyword inside a function to make the local variable global"
   ]
  },
  {
   "cell_type": "code",
   "execution_count": 3,
   "metadata": {
    "collapsed": false
   },
   "outputs": [
    {
     "name": "stdout",
     "output_type": "stream",
     "text": [
      "This will print the global variable 10\n",
      "This will print the local variable 7\n"
     ]
    }
   ],
   "source": [
    "# create a global variable\n",
    "x = 10\n",
    "\n",
    "def my_numbers(x):\n",
    "    print(f'This will print the global variable {x}')\n",
    "    # define a local variable \n",
    "    \n",
    "    x =7 # this x does not overwrite the global x\n",
    "    print(f\"This will print the local variable {x}\")\n",
    "    \n",
    "my_numbers(x)"
   ]
  },
  {
   "cell_type": "code",
   "execution_count": 7,
   "metadata": {
    "collapsed": false
   },
   "outputs": [
    {
     "name": "stdout",
     "output_type": "stream",
     "text": [
      "This will print the global variable 10\n",
      "This will print the local variable 7\n",
      "This will print the new global variable 7\n"
     ]
    }
   ],
   "source": [
    "# changing value of global variable\n",
    "x = 10\n",
    "\n",
    "def my_numbers():\n",
    "    global x # now the global value of x will be 7 and not 10\n",
    "    print(f'This will print the global variable {x}')\n",
    "    # define a local variable \n",
    "    \n",
    "    x =7 # this x does not overwrite the global x\n",
    "    print(f\"This will print the local variable {x}\")\n",
    "    \n",
    "my_numbers()\n",
    "print(f'This will print the new global variable {x}')"
   ]
  },
  {
   "cell_type": "code",
   "execution_count": 0,
   "metadata": {
    "collapsed": false
   },
   "outputs": [
   ],
   "source": [
   ]
  }
 ],
 "metadata": {
  "kernelspec": {
   "display_name": "Python 3 (system-wide)",
   "language": "python",
   "metadata": {
    "cocalc": {
     "description": "Python 3 programming language",
     "priority": 100,
     "url": "https://www.python.org/"
    }
   },
   "name": "python3",
   "resource_dir": "/ext/jupyter/kernels/python3"
  },
  "language_info": {
   "codemirror_mode": {
    "name": "ipython",
    "version": 3
   },
   "file_extension": ".py",
   "mimetype": "text/x-python",
   "name": "python",
   "nbconvert_exporter": "python",
   "pygments_lexer": "ipython3",
   "version": "3.8.10"
  }
 },
 "nbformat": 4,
 "nbformat_minor": 4
}