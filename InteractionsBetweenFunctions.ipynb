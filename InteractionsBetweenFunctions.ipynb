{
 "cells": [
  {
   "cell_type": "markdown",
   "metadata": {
    "collapsed": false
   },
   "source": [
    "Python scripts contains several functions interacting with each other\n",
    "\n",
    "Creating a program to mimic \"Three Cup Monte\"\n",
    "\n"
   ]
  },
  {
   "cell_type": "code",
   "execution_count": 4,
   "metadata": {
    "collapsed": false
   },
   "outputs": [
    {
     "data": {
      "text/plain": [
       "[1, 2, 3, 4, 5, 6, 7]"
      ]
     },
     "execution_count": 4,
     "metadata": {
     },
     "output_type": "execute_result"
    }
   ],
   "source": [
    "example = [1,2,3,4,5,6,7]\n",
    "from random import shuffle\n",
    "example"
   ]
  },
  {
   "cell_type": "code",
   "execution_count": 3,
   "metadata": {
    "collapsed": false
   },
   "outputs": [
    {
     "data": {
      "text/plain": [
       "[7, 4, 5, 6, 2, 3, 1]"
      ]
     },
     "execution_count": 3,
     "metadata": {
     },
     "output_type": "execute_result"
    }
   ],
   "source": [
    "shuffle(example)\n",
    "example"
   ]
  },
  {
   "cell_type": "code",
   "execution_count": 5,
   "metadata": {
    "collapsed": false
   },
   "outputs": [
   ],
   "source": [
    "# create a function to hold a shuffle since shuffle is an inplace function\n",
    "def shuffle_list(my_list):\n",
    "    shuffle(my_list)\n",
    "    return my_list"
   ]
  },
  {
   "cell_type": "code",
   "execution_count": 6,
   "metadata": {
    "collapsed": false
   },
   "outputs": [
    {
     "data": {
      "text/plain": [
       "[3, 7, 5, 4, 2, 6, 1]"
      ]
     },
     "execution_count": 6,
     "metadata": {
     },
     "output_type": "execute_result"
    }
   ],
   "source": [
    "# test shuffle function\n",
    "result = shuffle_list(example)\n",
    "result"
   ]
  },
  {
   "cell_type": "code",
   "execution_count": 9,
   "metadata": {
    "collapsed": false
   },
   "outputs": [
    {
     "data": {
      "text/plain": [
       "[1, 7, 2, 6, 4, 3, 5]"
      ]
     },
     "execution_count": 9,
     "metadata": {
     },
     "output_type": "execute_result"
    }
   ],
   "source": [
    "# test shuffle function\n",
    "result = shuffle_list(example)\n",
    "result"
   ]
  },
  {
   "cell_type": "code",
   "execution_count": 10,
   "metadata": {
    "collapsed": false
   },
   "outputs": [
    {
     "data": {
      "text/plain": [
       "['O', '', '']"
      ]
     },
     "execution_count": 10,
     "metadata": {
     },
     "output_type": "execute_result"
    }
   ],
   "source": [
    "# need a list with 3 strings - 2 empty / 1'O'\n",
    "my_list = ['','O','']\n",
    "shuffle_list(my_list)"
   ]
  },
  {
   "cell_type": "code",
   "execution_count": 51,
   "metadata": {
    "collapsed": false
   },
   "outputs": [
   ],
   "source": [
    "# need a function to take in users guess\n",
    "def player_guess():\n",
    "   guess = '' # guess could be index 1-3\n",
    "   while guess not in['1','2','3']: # if choice is not 1-3 then ask again\n",
    "       guess = input('Where is the ball? Pick 1,2 or 3:\\n')\n",
    "       if guess not in ['1','2','3']: #us logic to help user:\n",
    "            print('please pick a correct number :)')\n",
    "   return int(guess) - 1 # return as a int -1 because of the list indexing"
   ]
  },
  {
   "cell_type": "code",
   "execution_count": 54,
   "metadata": {
    "cocalc": {
     "outputs": {
      "0": {
       "name": "input",
       "opts": {
        "password": false,
        "prompt": "Where is the ball? Pick 1,2 or 3:\n"
       },
       "output_type": "stream",
       "value": "22"
      },
      "2": {
       "name": "input",
       "opts": {
        "password": false,
        "prompt": "Where is the ball? Pick 1,2 or 3:\n"
       },
       "output_type": "stream",
       "value": "1"
      }
     }
    },
    "collapsed": false
   },
   "outputs": [
    {
     "name": "stdout",
     "output_type": "stream",
     "text": "Where is the ball? Pick 1,2 or 3:\n 22"
    },
    {
     "name": "stdout",
     "output_type": "stream",
     "text": [
      "please pick a correct number :)\n"
     ]
    },
    {
     "name": "stdout",
     "output_type": "stream",
     "text": "Where is the ball? Pick 1,2 or 3:\n 1"
    },
    {
     "data": {
      "text/plain": [
       "0"
      ]
     },
     "execution_count": 54,
     "metadata": {
     },
     "output_type": "execute_result"
    }
   ],
   "source": [
    "player_guess()"
   ]
  },
  {
   "cell_type": "code",
   "execution_count": 55,
   "metadata": {
    "cocalc": {
     "outputs": {
      "0": {
       "name": "input",
       "opts": {
        "password": false,
        "prompt": "Where is the ball? Pick 1,2 or 3:\n"
       },
       "output_type": "stream",
       "value": "2"
      }
     }
    },
    "collapsed": false
   },
   "outputs": [
    {
     "name": "stdout",
     "output_type": "stream",
     "text": "Where is the ball? Pick 1,2 or 3:\n 2"
    },
    {
     "data": {
      "text/plain": [
       "1"
      ]
     },
     "execution_count": 55,
     "metadata": {
     },
     "output_type": "execute_result"
    }
   ],
   "source": [
    "# take users guess and make it an index for the list\n",
    "my_index = player_guess()\n",
    "my_index"
   ]
  },
  {
   "cell_type": "code",
   "execution_count": 58,
   "metadata": {
    "collapsed": false
   },
   "outputs": [
   ],
   "source": [
    "# check if guess is correct or not\n",
    "def check_guess(my_list,guess):\n",
    "    if my_list[guess] == 'O':\n",
    "        print('Correct')\n",
    "        print(my_list)\n",
    "    else:\n",
    "        print('Wrong Guess!!')\n",
    "        print(my_list)"
   ]
  },
  {
   "cell_type": "code",
   "execution_count": 63,
   "metadata": {
    "cocalc": {
     "outputs": {
      "0": {
       "name": "input",
       "opts": {
        "password": false,
        "prompt": "Where is the ball? Pick 1,2 or 3:\n"
       },
       "output_type": "stream",
       "value": "1"
      }
     }
    },
    "collapsed": false
   },
   "outputs": [
    {
     "name": "stdout",
     "output_type": "stream",
     "text": "Where is the ball? Pick 1,2 or 3:\n 1"
    },
    {
     "name": "stdout",
     "output_type": "stream",
     "text": [
      "Wrong Guess!!\n",
      "['', 'O', '']\n"
     ]
    }
   ],
   "source": [
    "# Final Script -- put it all together\n",
    "\n",
    "# Initial List\n",
    "my_list = ['','','O'] # make sure 'O' is capital\n",
    "\n",
    "# Shuffle List\n",
    "mixed_list = shuffle_list(my_list) # put shuffled list into a variable\n",
    "# User Guess\n",
    "guess = player_guess() # put guess into a variable\n",
    "# Check Guess\n",
    "check_guess(mixed_list,guess) # print out results"
   ]
  },
  {
   "cell_type": "code",
   "execution_count": 64,
   "metadata": {
    "cocalc": {
     "outputs": {
      "0": {
       "name": "input",
       "opts": {
        "password": false,
        "prompt": "Where is the ball? Pick 1,2 or 3:\n"
       },
       "output_type": "stream",
       "value": "2"
      }
     }
    },
    "collapsed": false
   },
   "outputs": [
    {
     "name": "stdout",
     "output_type": "stream",
     "text": "Where is the ball? Pick 1,2 or 3:\n 2"
    },
    {
     "name": "stdout",
     "output_type": "stream",
     "text": [
      "Wrong Guess!!\n",
      "['', '', 'O']\n"
     ]
    }
   ],
   "source": [
    "# Final Script -- put it all together\n",
    "\n",
    "# Initial List\n",
    "my_list = ['','','O'] # make sure 'O' is capital\n",
    "\n",
    "# Shuffle List\n",
    "mixed_list = shuffle_list(my_list) # put shuffled list into a variable\n",
    "# User Guess\n",
    "guess = player_guess() # put guess into a variable\n",
    "# Check Guess\n",
    "check_guess(mixed_list,guess) # print out results"
   ]
  },
  {
   "cell_type": "code",
   "execution_count": 65,
   "metadata": {
    "cocalc": {
     "outputs": {
      "0": {
       "name": "input",
       "opts": {
        "password": false,
        "prompt": "Where is the ball? Pick 1,2 or 3:\n"
       },
       "output_type": "stream",
       "value": "1"
      }
     }
    },
    "collapsed": false
   },
   "outputs": [
    {
     "name": "stdout",
     "output_type": "stream",
     "text": "Where is the ball? Pick 1,2 or 3:\n 1"
    },
    {
     "name": "stdout",
     "output_type": "stream",
     "text": [
      "Wrong Guess!!\n",
      "['', 'O', '']\n"
     ]
    }
   ],
   "source": [
    "# Final Script -- put it all together\n",
    "\n",
    "# Initial List\n",
    "my_list = ['','','O'] # make sure 'O' is capital\n",
    "\n",
    "# Shuffle List\n",
    "mixed_list = shuffle_list(my_list) # put shuffled list into a variable\n",
    "# User Guess\n",
    "guess = player_guess() # put guess into a variable\n",
    "# Check Guess\n",
    "check_guess(mixed_list,guess) # print out results"
   ]
  },
  {
   "cell_type": "code",
   "execution_count": 66,
   "metadata": {
    "cocalc": {
     "outputs": {
      "0": {
       "name": "input",
       "opts": {
        "password": false,
        "prompt": "Where is the ball? Pick 1,2 or 3:\n"
       },
       "output_type": "stream",
       "value": "8"
      },
      "1": {
       "name": "input",
       "opts": {
        "password": false,
        "prompt": "Where is the ball? Pick 1,2 or 3:\n"
       },
       "output_type": "stream"
      }
     }
    },
    "collapsed": false
   },
   "outputs": [
    {
     "name": "stdout",
     "output_type": "stream",
     "text": "Where is the ball? Pick 1,2 or 3:\n 8"
    },
    {
     "name": "stdout",
     "output_type": "stream",
     "text": "Where is the ball? Pick 1,2 or 3:\n "
    },
    {
     "name": "stdout",
     "output_type": "stream",
     "text": [
      "please pick a correct number :)\n"
     ],
     "value": "2"
    },
    {
     "name": "stdout",
     "output_type": "stream",
     "text": [
      "Correct\n",
      "['', 'O', '']\n"
     ]
    }
   ],
   "source": [
    "# Final Script -- put it all together\n",
    "\n",
    "# Initial List\n",
    "my_list = ['','','O'] # make sure 'O' is capital\n",
    "\n",
    "# Shuffle List\n",
    "mixed_list = shuffle_list(my_list) # put shuffled list into a variable\n",
    "# User Guess\n",
    "guess = player_guess() # put guess into a variable\n",
    "# Check Guess\n",
    "check_guess(mixed_list,guess) # print out results"
   ]
  },
  {
   "cell_type": "code",
   "execution_count": 95,
   "metadata": {
    "cocalc": {
     "outputs": {
      "0": {
       "name": "input",
       "opts": {
        "password": false,
        "prompt": "Where is the ball? Pick 1,2 or 3:\n"
       },
       "output_type": "stream",
       "value": "1"
      }
     }
    },
    "collapsed": false
   },
   "outputs": [
    {
     "name": "stdout",
     "output_type": "stream",
     "text": "Where is the ball? Pick 1,2 or 3:\n 1"
    },
    {
     "name": "stdout",
     "output_type": "stream",
     "text": [
      "Wrong Guess!!\n",
      "['', 'O', '']\n"
     ]
    }
   ],
   "source": [
    "# Final Script -- put it all together\n",
    "\n",
    "# Initial List\n",
    "my_list = ['','','O'] # make sure 'O' is capital\n",
    "\n",
    "# Shuffle List\n",
    "mixed_list = shuffle_list(my_list) # put shuffled list into a variable\n",
    "# User Guess\n",
    "guess = player_guess() # put guess into a variable\n",
    "# Check Guess\n",
    "check_guess(mixed_list,guess) # print out results"
   ]
  },
  {
   "cell_type": "code",
   "execution_count": 96,
   "metadata": {
    "cocalc": {
     "outputs": {
      "0": {
       "name": "input",
       "opts": {
        "password": false,
        "prompt": "Where is the ball? Pick 1,2 or 3:\n"
       },
       "output_type": "stream",
       "value": "2"
      }
     }
    },
    "collapsed": false
   },
   "outputs": [
    {
     "name": "stdout",
     "output_type": "stream",
     "text": "Where is the ball? Pick 1,2 or 3:\n 2"
    },
    {
     "name": "stdout",
     "output_type": "stream",
     "text": [
      "Wrong Guess!!\n",
      "['O', '', '']\n"
     ]
    }
   ],
   "source": [
    "# Final Script -- put it all together\n",
    "\n",
    "# Initial List\n",
    "my_list = ['','','O'] # make sure 'O' is capital\n",
    "\n",
    "# Shuffle List\n",
    "mixed_list = shuffle_list(my_list) # put shuffled list into a variable\n",
    "# User Guess\n",
    "guess = player_guess() # put guess into a variable\n",
    "# Check Guess\n",
    "check_guess(mixed_list,guess) # print out results"
   ]
  },
  {
   "cell_type": "code",
   "execution_count": 97,
   "metadata": {
    "cocalc": {
     "outputs": {
      "0": {
       "name": "input",
       "opts": {
        "password": false,
        "prompt": "Where is the ball? Pick 1,2 or 3:\n"
       },
       "output_type": "stream",
       "value": "3"
      }
     }
    },
    "collapsed": false
   },
   "outputs": [
    {
     "name": "stdout",
     "output_type": "stream",
     "text": "Where is the ball? Pick 1,2 or 3:\n 3"
    },
    {
     "name": "stdout",
     "output_type": "stream",
     "text": [
      "please pick a correct number :)\n",
      "Wrong Guess!!\n",
      "['', 'O', '']\n"
     ]
    }
   ],
   "source": [
    "# Final Script -- put it all together\n",
    "\n",
    "# Initial List\n",
    "my_list = ['','','O'] # make sure 'O' is capital\n",
    "\n",
    "# Shuffle List\n",
    "mixed_list = shuffle_list(my_list) # put shuffled list into a variable\n",
    "# User Guess\n",
    "guess = player_guess() # put guess into a variable\n",
    "# Check Guess\n",
    "check_guess(mixed_list,guess) # print out results"
   ]
  },
  {
   "cell_type": "code",
   "execution_count": 98,
   "metadata": {
    "cocalc": {
     "outputs": {
      "0": {
       "name": "input",
       "opts": {
        "password": false,
        "prompt": "Where is the ball? Pick 1,2 or 3:\n"
       },
       "output_type": "stream",
       "value": "2"
      }
     }
    },
    "collapsed": false
   },
   "outputs": [
    {
     "name": "stdout",
     "output_type": "stream",
     "text": "Where is the ball? Pick 1,2 or 3:\n 2"
    },
    {
     "name": "stdout",
     "output_type": "stream",
     "text": [
      "Wrong Guess!!\n",
      "['', '', 'O']\n"
     ]
    }
   ],
   "source": [
    "# Final Script -- put it all together\n",
    "\n",
    "# Initial List\n",
    "my_list = ['','','O'] # make sure 'O' is capital\n",
    "\n",
    "# Shuffle List\n",
    "mixed_list = shuffle_list(my_list) # put shuffled list into a variable\n",
    "# User Guess\n",
    "guess = player_guess() # put guess into a variable\n",
    "# Check Guess\n",
    "check_guess(mixed_list,guess) # print out results"
   ]
  },
  {
   "cell_type": "code",
   "execution_count": 0,
   "metadata": {
    "collapsed": false
   },
   "outputs": [
   ],
   "source": [
   ]
  },
  {
   "cell_type": "code",
   "execution_count": 0,
   "metadata": {
    "collapsed": false
   },
   "outputs": [
   ],
   "source": [
   ]
  },
  {
   "cell_type": "code",
   "execution_count": 0,
   "metadata": {
    "collapsed": false
   },
   "outputs": [
   ],
   "source": [
   ]
  }
 ],
 "metadata": {
  "kernelspec": {
   "display_name": "Python 3 (system-wide)",
   "language": "python",
   "metadata": {
    "cocalc": {
     "description": "Python 3 programming language",
     "priority": 100,
     "url": "https://www.python.org/"
    }
   },
   "name": "python3",
   "resource_dir": "/ext/jupyter/kernels/python3"
  },
  "language_info": {
   "codemirror_mode": {
    "name": "ipython",
    "version": 3
   },
   "file_extension": ".py",
   "mimetype": "text/x-python",
   "name": "python",
   "nbconvert_exporter": "python",
   "pygments_lexer": "ipython3",
   "version": "3.8.10"
  }
 },
 "nbformat": 4,
 "nbformat_minor": 4
}